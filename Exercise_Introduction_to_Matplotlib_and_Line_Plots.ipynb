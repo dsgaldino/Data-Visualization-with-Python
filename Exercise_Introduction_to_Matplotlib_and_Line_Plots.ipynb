{
  "cells": [
    {
      "cell_type": "markdown",
      "metadata": {
        "button": false,
        "new_sheet": false,
        "run_control": {
          "read_only": false
        },
        "id": "60FyrCnq1O8d"
      },
      "source": [
        "<p style=\"text-align:center\">\n",
        "    <a href=\"https://skills.network/?utm_medium=Exinfluencer&utm_source=Exinfluencer&utm_content=000026UJ&utm_term=10006555&utm_id=NA-SkillsNetwork-Channel-SkillsNetworkCoursesIBMDeveloperSkillsNetworkDV0101ENSkillsNetwork20297740-2022-01-01\" target=\"_blank\">\n",
        "    <img src=\"https://cf-courses-data.s3.us.cloud-object-storage.appdomain.cloud/assets/logos/SN_web_lightmode.png\" width=\"200\" alt=\"Skills Network Logo\"  />\n",
        "    </a>\n",
        "</p>\n",
        "\n",
        "# Data Visualization\n",
        "\n",
        "Estimated time needed: **30** minutes\n",
        "\n",
        "## Objectives\n",
        "\n",
        "After completing this lab you will be able to:\n",
        "\n",
        "*   Create Data Visualization with Python\n",
        "*   Use various Python libraries for visualization\n"
      ]
    },
    {
      "cell_type": "markdown",
      "metadata": {
        "button": false,
        "new_sheet": false,
        "run_control": {
          "read_only": false
        },
        "id": "AoJmF7Ku1O8f"
      },
      "source": [
        "## Introduction\n",
        "\n",
        "The aim of these labs is to introduce you to data visualization with Python as concrete and as consistent as possible.\n",
        "Speaking of consistency, because there is no *best* data visualization library available for Python - up to creating these labs - we have to introduce different libraries and show their benefits when we are discussing new visualization concepts. Doing so, we hope to make students well-rounded with visualization libraries and concepts so that they are able to judge and decide on the best visualization technique and tool for a given problem *and* audience.\n",
        "\n",
        "Please make sure that you have completed the prerequisites for this course, namely [**Python Basics for Data Science**](https://www.edx.org/course/python-basics-for-data-science-2?utm_medium=Exinfluencer&utm_source=Exinfluencer&utm_content=000026UJ&utm_term=10006555&utm_id=NA-SkillsNetwork-Channel-SkillsNetworkCoursesIBMDeveloperSkillsNetworkDV0101ENSkillsNetwork20297740-2022-01-01) and [**Analyzing Data with Python**](https://www.edx.org/course/data-analysis-with-python?utm_medium=Exinfluencer&utm_source=Exinfluencer&utm_content=000026UJ&utm_term=10006555&utm_id=NA-SkillsNetwork-Channel-SkillsNetworkCoursesIBMDeveloperSkillsNetworkDV0101ENSkillsNetwork20297740-2022-01-01).\n",
        "\n",
        "**Note**: The majority of the plots and visualizations will be generated using data stored in *pandas* dataframes. Therefore, in this lab, we provide a brief crash course on *pandas*. However, if you are interested in learning more about the *pandas* library, detailed description and explanation of how to use it and how to clean, munge, and process data stored in a *pandas* dataframe are provided in our course [**Analyzing Data with Python**](https://www.edx.org/course/data-analysis-with-python?utm_medium=Exinfluencer&utm_source=Exinfluencer&utm_content=000026UJ&utm_term=10006555&utm_id=NA-SkillsNetwork-Channel-SkillsNetworkCoursesIBMDeveloperSkillsNetworkDV0101ENSkillsNetwork20297740-2022-01-01).\n",
        "\n",
        "***\n"
      ]
    },
    {
      "cell_type": "markdown",
      "metadata": {
        "button": false,
        "new_sheet": false,
        "run_control": {
          "read_only": false
        },
        "id": "NjW4rQSe1O8g"
      },
      "source": [
        "## Table of Contents\n",
        "\n",
        "<div class=\"alert alert-block alert-info\" style=\"margin-top: 20px\">\n",
        "\n",
        "1.  [Exploring Datasets with *pandas*](#0)<br>\n",
        "\n",
        "1.1 [The Dataset: Immigration to Canada from 1980 to 2013](#2)<br>\n",
        "1.2 [*pandas* Basics](#4) <br>\n",
        "1.3 [*pandas* Intermediate: Indexing and Selection](#6) <br>\n",
        "2\\. [Visualizing Data using Matplotlib](#8) <br>\n",
        "2.1 [Matplotlib: Standard Python Visualization Library](#10) <br>\n",
        "3\\. [Line Plots](#12)\n",
        "\n",
        "</div>\n"
      ]
    },
    {
      "cell_type": "markdown",
      "metadata": {
        "button": false,
        "new_sheet": false,
        "run_control": {
          "read_only": false
        },
        "id": "S7l-5UE51O8g"
      },
      "source": [
        "# Exploring Datasets with *pandas* <a id=\"0\"></a>\n",
        "\n",
        "*pandas* is an essential data analysis toolkit for Python. From their [website](http://pandas.pydata.org/?utm_medium=Exinfluencer&utm_source=Exinfluencer&utm_content=000026UJ&utm_term=10006555&utm_id=NA-SkillsNetwork-Channel-SkillsNetworkCoursesIBMDeveloperSkillsNetworkDV0101ENSkillsNetwork20297740-2022-01-01):\n",
        "\n",
        "> *pandas* is a Python package providing fast, flexible, and expressive data structures designed to make working with “relational” or “labeled” data both easy and intuitive. It aims to be the fundamental high-level building block for doing practical, **real world** data analysis in Python.\n",
        "\n",
        "The course heavily relies on *pandas* for data wrangling, analysis, and visualization. We encourage you to spend some time and familiarize yourself with the *pandas* API Reference: [http://pandas.pydata.org/pandas-docs/stable/api.html](http://pandas.pydata.org/pandas-docs/stable/api.html?utm_medium=Exinfluencer&utm_source=Exinfluencer&utm_content=000026UJ&utm_term=10006555&utm_id=NA-SkillsNetwork-Channel-SkillsNetworkCoursesIBMDeveloperSkillsNetworkDV0101ENSkillsNetwork20297740-2022-01-01).\n"
      ]
    },
    {
      "cell_type": "markdown",
      "metadata": {
        "button": false,
        "new_sheet": false,
        "run_control": {
          "read_only": false
        },
        "id": "--ieBRQU1O8p"
      },
      "source": [
        "## The Dataset: Immigration to Canada from 1980 to 2013 <a id=\"2\"></a>\n"
      ]
    },
    {
      "cell_type": "markdown",
      "metadata": {
        "button": false,
        "new_sheet": false,
        "run_control": {
          "read_only": false
        },
        "id": "6qDokiI31O8p"
      },
      "source": [
        "Dataset Source: [International migration flows to and from selected countries - The 2015 revision](http://www.un.org/en/development/desa/population/migration/data/empirical2/migrationflows.shtml?utm_medium=Exinfluencer&utm_source=Exinfluencer&utm_content=000026UJ&utm_term=10006555&utm_id=NA-SkillsNetwork-Channel-SkillsNetworkCoursesIBMDeveloperSkillsNetworkDV0101ENSkillsNetwork20297740-2022-01-01).\n",
        "\n",
        "The dataset contains annual data on the flows of international immigrants as recorded by the countries of destination. The data presents both inflows and outflows according to the place of birth, citizenship or place of previous / next residence both for foreigners and nationals. The current version presents data pertaining to 45 countries.\n",
        "\n",
        "In this lab, we will focus on the Canadian immigration data.\n",
        "\n",
        "![Data Preview](https://cf-courses-data.s3.us.cloud-object-storage.appdomain.cloud/IBMDeveloperSkillsNetwork-DV0101EN-SkillsNetwork/labs/Module%201/images/DataSnapshot.png)\n",
        "\n",
        "The Canada Immigration dataset can be fetched from <a href=\"https://cf-courses-data.s3.us.cloud-object-storage.appdomain.cloud/IBMDeveloperSkillsNetwork-DV0101EN-SkillsNetwork/Data%20Files/Canada.xlsx?utm_medium=Exinfluencer&utm_source=Exinfluencer&utm_content=000026UJ&utm_term=10006555&utm_id=NA-SkillsNetwork-Channel-SkillsNetworkCoursesIBMDeveloperSkillsNetworkDV0101ENSkillsNetwork20297740-2022-01-01\">here</a>.\n",
        "\n",
        "***\n"
      ]
    },
    {
      "cell_type": "markdown",
      "metadata": {
        "button": false,
        "new_sheet": false,
        "run_control": {
          "read_only": false
        },
        "id": "rs8dKZIZ1O8q"
      },
      "source": [
        "## *pandas* Basics<a id=\"4\"></a>\n"
      ]
    },
    {
      "cell_type": "markdown",
      "metadata": {
        "id": "3oN__oMb1O8q"
      },
      "source": [
        "The first thing we'll do is install **openpyxl** (formerly **xlrd**), a module that *pandas* requires to read Excel files.\n"
      ]
    },
    {
      "cell_type": "code",
      "execution_count": null,
      "metadata": {
        "id": "JIZe1jOt1O8r"
      },
      "outputs": [],
      "source": [
        "!mamba install openpyxl==3.0.9 -y"
      ]
    },
    {
      "cell_type": "markdown",
      "metadata": {
        "button": false,
        "new_sheet": false,
        "run_control": {
          "read_only": false
        },
        "id": "TyX82KO51O8u"
      },
      "source": [
        "Next, we'll do is import two key data analysis modules: *pandas* and *numpy*.\n"
      ]
    },
    {
      "cell_type": "code",
      "execution_count": null,
      "metadata": {
        "button": false,
        "new_sheet": false,
        "run_control": {
          "read_only": false
        },
        "scrolled": false,
        "id": "ooDja-kc1O8v"
      },
      "outputs": [],
      "source": [
        "import numpy as np  # useful for many scientific computing in Python\n",
        "import pandas as pd # primary data structure library"
      ]
    },
    {
      "cell_type": "markdown",
      "metadata": {
        "button": false,
        "new_sheet": false,
        "run_control": {
          "read_only": false
        },
        "id": "hC6K_y7y1O8v"
      },
      "source": [
        "Let's download and import our primary Canadian Immigration dataset using *pandas*'s `read_excel()` method.\n"
      ]
    },
    {
      "cell_type": "code",
      "execution_count": null,
      "metadata": {
        "button": false,
        "new_sheet": false,
        "run_control": {
          "read_only": false
        },
        "scrolled": false,
        "id": "5UE8nmd_1O8v"
      },
      "outputs": [],
      "source": [
        "df_can = pd.read_excel(\n",
        "    'https://cf-courses-data.s3.us.cloud-object-storage.appdomain.cloud/IBMDeveloperSkillsNetwork-DV0101EN-SkillsNetwork/Data%20Files/Canada.xlsx',\n",
        "    sheet_name='Canada by Citizenship',\n",
        "    skiprows=range(20),\n",
        "    skipfooter=2)\n",
        "\n",
        "print('Data read into a pandas dataframe!')"
      ]
    },
    {
      "cell_type": "markdown",
      "metadata": {
        "button": false,
        "new_sheet": false,
        "run_control": {
          "read_only": false
        },
        "id": "1p36EC2k1O8w"
      },
      "source": [
        "Let's view the top 5 rows of the dataset using the `head()` function.\n"
      ]
    },
    {
      "cell_type": "code",
      "execution_count": null,
      "metadata": {
        "button": false,
        "new_sheet": false,
        "run_control": {
          "read_only": false
        },
        "id": "GeEdvb-71O8w"
      },
      "outputs": [],
      "source": [
        "df_can.head()\n",
        "# tip: You can specify the number of rows you'd like to see as follows: df_can.head(10) "
      ]
    },
    {
      "cell_type": "markdown",
      "metadata": {
        "button": false,
        "new_sheet": false,
        "run_control": {
          "read_only": false
        },
        "id": "NWcL8qra1O8w"
      },
      "source": [
        "We can also view the bottom 5 rows of the dataset using the `tail()` function.\n"
      ]
    },
    {
      "cell_type": "code",
      "execution_count": null,
      "metadata": {
        "button": false,
        "new_sheet": false,
        "run_control": {
          "read_only": false
        },
        "id": "d5lCV5MN1O8w"
      },
      "outputs": [],
      "source": [
        "df_can.tail()"
      ]
    },
    {
      "cell_type": "markdown",
      "metadata": {
        "button": false,
        "new_sheet": false,
        "run_control": {
          "read_only": false
        },
        "id": "5cZbdgV31O8w"
      },
      "source": [
        "When analyzing a dataset, it's always a good idea to start by getting basic information about your dataframe. We can do this by using the `info()` method.\n",
        "\n",
        "This method can be used to get a short summary of the dataframe.\n"
      ]
    },
    {
      "cell_type": "code",
      "execution_count": null,
      "metadata": {
        "id": "FOnV5snq1O8x"
      },
      "outputs": [],
      "source": [
        "df_can.info(verbose=False)"
      ]
    },
    {
      "cell_type": "markdown",
      "metadata": {
        "button": false,
        "new_sheet": false,
        "run_control": {
          "read_only": false
        },
        "id": "VqqqmcKH1O8x"
      },
      "source": [
        "To get the list of column headers we can call upon the data frame's `columns` instance variable.\n"
      ]
    },
    {
      "cell_type": "code",
      "execution_count": null,
      "metadata": {
        "button": false,
        "new_sheet": false,
        "run_control": {
          "read_only": false
        },
        "scrolled": false,
        "id": "eVi2-Dm-1O8x"
      },
      "outputs": [],
      "source": [
        "df_can.columns"
      ]
    },
    {
      "cell_type": "markdown",
      "metadata": {
        "button": false,
        "new_sheet": false,
        "run_control": {
          "read_only": false
        },
        "id": "W3UkCqen1O8x"
      },
      "source": [
        "Similarly, to get the list of indices we use the `.index` instance variables.\n"
      ]
    },
    {
      "cell_type": "code",
      "execution_count": null,
      "metadata": {
        "button": false,
        "new_sheet": false,
        "run_control": {
          "read_only": false
        },
        "scrolled": true,
        "id": "qhHJpIsa1O8x"
      },
      "outputs": [],
      "source": [
        "df_can.index"
      ]
    },
    {
      "cell_type": "markdown",
      "metadata": {
        "button": false,
        "new_sheet": false,
        "run_control": {
          "read_only": false
        },
        "id": "ClXErYOV1O8y"
      },
      "source": [
        "Note: The default type of intance variables `index` and `columns` are **NOT** `list`.\n"
      ]
    },
    {
      "cell_type": "code",
      "execution_count": null,
      "metadata": {
        "button": false,
        "new_sheet": false,
        "run_control": {
          "read_only": false
        },
        "scrolled": false,
        "id": "utNjwJQf1O8y"
      },
      "outputs": [],
      "source": [
        "print(type(df_can.columns))\n",
        "print(type(df_can.index))"
      ]
    },
    {
      "cell_type": "markdown",
      "metadata": {
        "button": false,
        "new_sheet": false,
        "run_control": {
          "read_only": false
        },
        "id": "uLi8Ing41O8y"
      },
      "source": [
        "To get the index and columns as lists, we can use the `tolist()` method.\n"
      ]
    },
    {
      "cell_type": "code",
      "execution_count": null,
      "metadata": {
        "pycharm": {
          "name": "#%%\n"
        },
        "id": "9Aor6nIL1O8z"
      },
      "outputs": [],
      "source": [
        "df_can.columns.tolist()"
      ]
    },
    {
      "cell_type": "code",
      "execution_count": null,
      "metadata": {
        "pycharm": {
          "name": "#%%\n"
        },
        "id": "89nUWK1E1O8z"
      },
      "outputs": [],
      "source": [
        "df_can.index.tolist()"
      ]
    },
    {
      "cell_type": "code",
      "execution_count": null,
      "metadata": {
        "button": false,
        "new_sheet": false,
        "run_control": {
          "read_only": false
        },
        "scrolled": false,
        "id": "mf44v8f81O8z"
      },
      "outputs": [],
      "source": [
        "print(type(df_can.columns.tolist()))\n",
        "print(type(df_can.index.tolist()))"
      ]
    },
    {
      "cell_type": "markdown",
      "metadata": {
        "button": false,
        "new_sheet": false,
        "run_control": {
          "read_only": false
        },
        "id": "rJFZMjVz1O8z"
      },
      "source": [
        "To view the dimensions of the dataframe, we use the `shape` instance variable of it.\n"
      ]
    },
    {
      "cell_type": "code",
      "execution_count": null,
      "metadata": {
        "button": false,
        "new_sheet": false,
        "run_control": {
          "read_only": false
        },
        "scrolled": false,
        "id": "m3MIJPtq1O8z"
      },
      "outputs": [],
      "source": [
        "# size of dataframe (rows, columns)\n",
        "df_can.shape    "
      ]
    },
    {
      "cell_type": "markdown",
      "metadata": {
        "button": false,
        "new_sheet": false,
        "run_control": {
          "read_only": false
        },
        "id": "5T2nGZR-1O80"
      },
      "source": [
        "**Note**: The main types stored in *pandas* objects are `float`, `int`, `bool`, `datetime64[ns]`, `datetime64[ns, tz]`, `timedelta[ns]`, `category`, and `object` (string). In addition, these dtypes have item sizes, e.g. `int64` and `int32`.\n"
      ]
    },
    {
      "cell_type": "markdown",
      "metadata": {
        "button": false,
        "new_sheet": false,
        "run_control": {
          "read_only": false
        },
        "id": "A9M12di91O80"
      },
      "source": [
        "Let's clean the data set to remove a few unnecessary columns. We can use *pandas* `drop()` method as follows:\n"
      ]
    },
    {
      "cell_type": "code",
      "execution_count": null,
      "metadata": {
        "button": false,
        "new_sheet": false,
        "run_control": {
          "read_only": false
        },
        "scrolled": false,
        "id": "v0CL-IHO1O80"
      },
      "outputs": [],
      "source": [
        "# in pandas axis=0 represents rows (default) and axis=1 represents columns.\n",
        "df_can.drop(['AREA','REG','DEV','Type','Coverage'], axis=1, inplace=True)\n",
        "df_can.head(2)"
      ]
    },
    {
      "cell_type": "markdown",
      "metadata": {
        "button": false,
        "new_sheet": false,
        "run_control": {
          "read_only": false
        },
        "id": "90G6IaR41O80"
      },
      "source": [
        "Let's rename the columns so that they make sense. We can use `rename()` method by passing in a dictionary of old and new names as follows:\n"
      ]
    },
    {
      "cell_type": "code",
      "execution_count": null,
      "metadata": {
        "button": false,
        "new_sheet": false,
        "run_control": {
          "read_only": false
        },
        "scrolled": false,
        "id": "-Tfg0OJE1O80"
      },
      "outputs": [],
      "source": [
        "df_can.rename(columns={'OdName':'Country', 'AreaName':'Continent', 'RegName':'Region'}, inplace=True)\n",
        "df_can.columns"
      ]
    },
    {
      "cell_type": "markdown",
      "metadata": {
        "button": false,
        "new_sheet": false,
        "run_control": {
          "read_only": false
        },
        "id": "LGD73j-M1O81"
      },
      "source": [
        "We will also add a 'Total' column that sums up the total immigrants by country over the entire period 1980 - 2013, as follows:\n"
      ]
    },
    {
      "cell_type": "code",
      "execution_count": null,
      "metadata": {
        "button": false,
        "new_sheet": false,
        "run_control": {
          "read_only": false
        },
        "scrolled": false,
        "id": "mz-jluBQ1O81"
      },
      "outputs": [],
      "source": [
        "df_can['Total'] = df_can.sum(axis=1)"
      ]
    },
    {
      "cell_type": "markdown",
      "metadata": {
        "button": false,
        "new_sheet": false,
        "run_control": {
          "read_only": false
        },
        "id": "ZNh5jY771O81"
      },
      "source": [
        "We can check to see how many null objects we have in the dataset as follows:\n"
      ]
    },
    {
      "cell_type": "code",
      "execution_count": null,
      "metadata": {
        "button": false,
        "new_sheet": false,
        "run_control": {
          "read_only": false
        },
        "scrolled": true,
        "id": "YRApLVfF1O81"
      },
      "outputs": [],
      "source": [
        "df_can.isnull().sum()"
      ]
    },
    {
      "cell_type": "markdown",
      "metadata": {
        "button": false,
        "new_sheet": false,
        "run_control": {
          "read_only": false
        },
        "id": "eQFQ3Uga1O81"
      },
      "source": [
        "Finally, let's view a quick summary of each column in our dataframe using the `describe()` method.\n"
      ]
    },
    {
      "cell_type": "code",
      "execution_count": null,
      "metadata": {
        "button": false,
        "new_sheet": false,
        "run_control": {
          "read_only": false
        },
        "scrolled": false,
        "id": "Z4iXh7O11O82"
      },
      "outputs": [],
      "source": [
        "df_can.describe()"
      ]
    },
    {
      "cell_type": "markdown",
      "metadata": {
        "button": false,
        "new_sheet": false,
        "run_control": {
          "read_only": false
        },
        "id": "pv0bJgs01O82"
      },
      "source": [
        "***\n",
        "\n",
        "## *pandas* Intermediate: Indexing and Selection (slicing)<a id=\"6\"></a>\n"
      ]
    },
    {
      "cell_type": "markdown",
      "metadata": {
        "button": false,
        "new_sheet": false,
        "run_control": {
          "read_only": false
        },
        "id": "ugUbULaX1O82"
      },
      "source": [
        "### Select Column\n",
        "\n",
        "**There are two ways to filter on a column name:**\n",
        "\n",
        "Method 1: Quick and easy, but only works if the column name does NOT have spaces or special characters.\n",
        "\n",
        "```python\n",
        "    df.column_name               # returns series\n",
        "```\n",
        "\n",
        "Method 2: More robust, and can filter on multiple columns.\n",
        "\n",
        "```python\n",
        "    df['column']                  # returns series\n",
        "```\n",
        "\n",
        "```python\n",
        "    df[['column 1', 'column 2']]  # returns dataframe\n",
        "```\n",
        "\n",
        "***\n"
      ]
    },
    {
      "cell_type": "markdown",
      "metadata": {
        "button": false,
        "new_sheet": false,
        "run_control": {
          "read_only": false
        },
        "id": "QNqbT0zL1O82"
      },
      "source": [
        "Example: Let's try filtering on the list of countries ('Country').\n"
      ]
    },
    {
      "cell_type": "code",
      "execution_count": 1,
      "metadata": {
        "button": false,
        "new_sheet": false,
        "run_control": {
          "read_only": false
        },
        "scrolled": true,
        "colab": {
          "base_uri": "https://localhost:8080/",
          "height": 166
        },
        "id": "g1Z2GxYN1O82",
        "outputId": "faf2ac55-1093-4686-e6ba-115a3e8b8764"
      },
      "outputs": [
        {
          "output_type": "error",
          "ename": "NameError",
          "evalue": "ignored",
          "traceback": [
            "\u001b[0;31m---------------------------------------------------------------------------\u001b[0m",
            "\u001b[0;31mNameError\u001b[0m                                 Traceback (most recent call last)",
            "\u001b[0;32m<ipython-input-1-f4f50154c410>\u001b[0m in \u001b[0;36m<module>\u001b[0;34m\u001b[0m\n\u001b[0;32m----> 1\u001b[0;31m \u001b[0mdf_can\u001b[0m\u001b[0;34m.\u001b[0m\u001b[0mCountry\u001b[0m  \u001b[0;31m# returns a series\u001b[0m\u001b[0;34m\u001b[0m\u001b[0;34m\u001b[0m\u001b[0m\n\u001b[0m",
            "\u001b[0;31mNameError\u001b[0m: name 'df_can' is not defined"
          ]
        }
      ],
      "source": [
        "df_can.Country  # returns a series"
      ]
    },
    {
      "cell_type": "markdown",
      "metadata": {
        "button": false,
        "new_sheet": false,
        "run_control": {
          "read_only": false
        },
        "id": "ojxBsrFw1O82"
      },
      "source": [
        "Let's try filtering on the list of countries ('Country') and the data for years: 1980 - 1985.\n"
      ]
    },
    {
      "cell_type": "code",
      "execution_count": null,
      "metadata": {
        "button": false,
        "new_sheet": false,
        "run_control": {
          "read_only": false
        },
        "id": "CH6YQ7YL1O82"
      },
      "outputs": [],
      "source": [
        "df_can[['Country', 1980, 1981, 1982, 1983, 1984, 1985]] # returns a dataframe\n",
        "# notice that 'Country' is string, and the years are integers. \n",
        "# for the sake of consistency, we will convert all column names to string later on."
      ]
    },
    {
      "cell_type": "markdown",
      "metadata": {
        "button": false,
        "new_sheet": false,
        "run_control": {
          "read_only": false
        },
        "id": "o9SoRVoH1O83"
      },
      "source": [
        "### Select Row\n",
        "\n",
        "There are main 2 ways to select rows:\n",
        "\n",
        "```python\n",
        "    df.loc[label]    # filters by the labels of the index/column\n",
        "    df.iloc[index]   # filters by the positions of the index/column\n",
        "```\n"
      ]
    },
    {
      "cell_type": "markdown",
      "metadata": {
        "button": false,
        "new_sheet": false,
        "run_control": {
          "read_only": false
        },
        "id": "3YWK4QQ51O83"
      },
      "source": [
        "Before we proceed, notice that the default index of the dataset is a numeric range from 0 to 194. This makes it very difficult to do a query by a specific country. For example to search for data on Japan, we need to know the corresponding index value.\n",
        "\n",
        "This can be fixed very easily by setting the 'Country' column as the index using `set_index()` method.\n"
      ]
    },
    {
      "cell_type": "code",
      "execution_count": null,
      "metadata": {
        "button": false,
        "new_sheet": false,
        "run_control": {
          "read_only": false
        },
        "scrolled": true,
        "id": "sd2cQaJ01O83"
      },
      "outputs": [],
      "source": [
        "df_can.set_index('Country', inplace=True)\n",
        "# tip: The opposite of set is reset. So to reset the index, we can use df_can.reset_index()"
      ]
    },
    {
      "cell_type": "code",
      "execution_count": null,
      "metadata": {
        "button": false,
        "new_sheet": false,
        "run_control": {
          "read_only": false
        },
        "scrolled": false,
        "id": "f9N7Zi1P1O83"
      },
      "outputs": [],
      "source": [
        "df_can.head(3)"
      ]
    },
    {
      "cell_type": "code",
      "execution_count": null,
      "metadata": {
        "button": false,
        "new_sheet": false,
        "run_control": {
          "read_only": false
        },
        "scrolled": false,
        "id": "1tNI4LRa1O83"
      },
      "outputs": [],
      "source": [
        "# optional: to remove the name of the index\n",
        "df_can.index.name = None"
      ]
    },
    {
      "cell_type": "markdown",
      "metadata": {
        "button": false,
        "new_sheet": false,
        "run_control": {
          "read_only": false
        },
        "id": "qcGuN-rx1O83"
      },
      "source": [
        "Example: Let's view the number of immigrants from Japan (row 87) for the following scenarios:\n",
        "1\\. The full row data (all columns)\n",
        "2\\. For year 2013\n",
        "3\\. For years 1980 to 1985\n"
      ]
    },
    {
      "cell_type": "code",
      "execution_count": null,
      "metadata": {
        "button": false,
        "new_sheet": false,
        "run_control": {
          "read_only": false
        },
        "scrolled": true,
        "id": "1cM6DPIL1O84"
      },
      "outputs": [],
      "source": [
        "# 1. the full row data (all columns)\n",
        "df_can.loc['Japan']"
      ]
    },
    {
      "cell_type": "code",
      "execution_count": null,
      "metadata": {
        "pycharm": {
          "name": "#%%\n"
        },
        "id": "bzAKvftC1O84"
      },
      "outputs": [],
      "source": [
        "# alternate methods\n",
        "df_can.iloc[87]"
      ]
    },
    {
      "cell_type": "code",
      "execution_count": null,
      "metadata": {
        "pycharm": {
          "name": "#%%\n"
        },
        "id": "5w53IrQ81O84"
      },
      "outputs": [],
      "source": [
        "df_can[df_can.index == 'Japan']"
      ]
    },
    {
      "cell_type": "code",
      "execution_count": null,
      "metadata": {
        "button": false,
        "new_sheet": false,
        "run_control": {
          "read_only": false
        },
        "scrolled": true,
        "id": "jPGEZuQ_1O84"
      },
      "outputs": [],
      "source": [
        "# 2. for year 2013\n",
        "df_can.loc['Japan', 2013]"
      ]
    },
    {
      "cell_type": "code",
      "execution_count": null,
      "metadata": {
        "pycharm": {
          "name": "#%%\n"
        },
        "id": "EclFuBEk1O84"
      },
      "outputs": [],
      "source": [
        "# alternate method\n",
        "# year 2013 is the last column, with a positional index of 36\n",
        "df_can.iloc[87, 36]"
      ]
    },
    {
      "cell_type": "code",
      "execution_count": null,
      "metadata": {
        "button": false,
        "new_sheet": false,
        "run_control": {
          "read_only": false
        },
        "id": "7sm85c2s1O85"
      },
      "outputs": [],
      "source": [
        "# 3. for years 1980 to 1985\n",
        "df_can.loc['Japan', [1980, 1981, 1982, 1983, 1984, 1984]]"
      ]
    },
    {
      "cell_type": "code",
      "execution_count": null,
      "metadata": {
        "pycharm": {
          "name": "#%%\n"
        },
        "id": "W0Ih3Gj21O85"
      },
      "outputs": [],
      "source": [
        "# Alternative Method\n",
        "df_can.iloc[87, [3, 4, 5, 6, 7, 8]]"
      ]
    },
    {
      "cell_type": "markdown",
      "metadata": {
        "button": false,
        "new_sheet": false,
        "run_control": {
          "read_only": false
        },
        "id": "7NKjN6051O85"
      },
      "source": [
        "Column names that are integers (such as the years) might introduce some confusion. For example, when we are referencing the year 2013, one might confuse that when the 2013th positional index.\n",
        "\n",
        "To avoid this ambuigity, let's convert the column names into strings: '1980' to '2013'.\n"
      ]
    },
    {
      "cell_type": "code",
      "execution_count": null,
      "metadata": {
        "button": false,
        "new_sheet": false,
        "run_control": {
          "read_only": false
        },
        "scrolled": false,
        "id": "9WeXX9RT1O85"
      },
      "outputs": [],
      "source": [
        "df_can.columns = list(map(str, df_can.columns))\n",
        "# [print (type(x)) for x in df_can.columns.values] #<-- uncomment to check type of column headers"
      ]
    },
    {
      "cell_type": "markdown",
      "metadata": {
        "button": false,
        "new_sheet": false,
        "run_control": {
          "read_only": false
        },
        "id": "dsGVnUZx1O85"
      },
      "source": [
        "Since we converted the years to string, let's declare a variable that will allow us to easily call upon the full range of years:\n"
      ]
    },
    {
      "cell_type": "code",
      "execution_count": null,
      "metadata": {
        "button": false,
        "new_sheet": false,
        "run_control": {
          "read_only": false
        },
        "scrolled": false,
        "id": "pdX1Bmnn1O86"
      },
      "outputs": [],
      "source": [
        "# useful for plotting later on\n",
        "years = list(map(str, range(1980, 2014)))\n",
        "years"
      ]
    },
    {
      "cell_type": "markdown",
      "metadata": {
        "button": false,
        "new_sheet": false,
        "run_control": {
          "read_only": false
        },
        "id": "LAW7v_nL1O86"
      },
      "source": [
        "### Filtering based on a criteria\n",
        "\n",
        "To filter the dataframe based on a condition, we simply pass the condition as a boolean vector.\n",
        "\n",
        "For example, Let's filter the dataframe to show the data on Asian countries (AreaName = Asia).\n"
      ]
    },
    {
      "cell_type": "code",
      "execution_count": null,
      "metadata": {
        "button": false,
        "new_sheet": false,
        "run_control": {
          "read_only": false
        },
        "scrolled": true,
        "id": "JfMOffT71O86"
      },
      "outputs": [],
      "source": [
        "# 1. create the condition boolean series\n",
        "condition = df_can['Continent'] == 'Asia'\n",
        "print(condition)"
      ]
    },
    {
      "cell_type": "code",
      "execution_count": null,
      "metadata": {
        "button": false,
        "new_sheet": false,
        "run_control": {
          "read_only": false
        },
        "id": "Cmj7IW6e1O86"
      },
      "outputs": [],
      "source": [
        "# 2. pass this condition into the dataFrame\n",
        "df_can[condition]"
      ]
    },
    {
      "cell_type": "code",
      "execution_count": null,
      "metadata": {
        "button": false,
        "new_sheet": false,
        "run_control": {
          "read_only": false
        },
        "id": "ScK0PRkT1O87"
      },
      "outputs": [],
      "source": [
        "# we can pass multiple criteria in the same line.\n",
        "# let's filter for AreaNAme = Asia and RegName = Southern Asia\n",
        "\n",
        "df_can[(df_can['Continent']=='Asia') & (df_can['Region']=='Southern Asia')]\n",
        "\n",
        "# note: When using 'and' and 'or' operators, pandas requires we use '&' and '|' instead of 'and' and 'or'\n",
        "# don't forget to enclose the two conditions in parentheses"
      ]
    },
    {
      "cell_type": "markdown",
      "metadata": {
        "button": false,
        "new_sheet": false,
        "run_control": {
          "read_only": false
        },
        "id": "RiHJcpp_1O87"
      },
      "source": [
        "Before we proceed: let's review the changes we have made to our dataframe.\n"
      ]
    },
    {
      "cell_type": "code",
      "execution_count": null,
      "metadata": {
        "button": false,
        "new_sheet": false,
        "run_control": {
          "read_only": false
        },
        "scrolled": true,
        "id": "OLOTxzS91O87"
      },
      "outputs": [],
      "source": [
        "print('data dimensions:', df_can.shape)\n",
        "print(df_can.columns)\n",
        "df_can.head(2)"
      ]
    },
    {
      "cell_type": "markdown",
      "metadata": {
        "button": false,
        "new_sheet": false,
        "run_control": {
          "read_only": false
        },
        "id": "p8m_vMyQ1O87"
      },
      "source": [
        "***\n",
        "\n",
        "# Visualizing Data using Matplotlib<a id=\"8\"></a>\n"
      ]
    },
    {
      "cell_type": "markdown",
      "metadata": {
        "button": false,
        "new_sheet": false,
        "run_control": {
          "read_only": false
        },
        "id": "IZkPGm0o1O88"
      },
      "source": [
        "## Matplotlib: Standard Python Visualization Library<a id=\"10\"></a>\n",
        "\n",
        "The primary plotting library we will explore in the course is [Matplotlib](http://matplotlib.org/?utm_medium=Exinfluencer&utm_source=Exinfluencer&utm_content=000026UJ&utm_term=10006555&utm_id=NA-SkillsNetwork-Channel-SkillsNetworkCoursesIBMDeveloperSkillsNetworkDV0101ENSkillsNetwork20297740-2022-01-01).  As mentioned on their website:\n",
        "\n",
        "> Matplotlib is a Python 2D plotting library which produces publication quality figures in a variety of hardcopy formats and interactive environments across platforms. Matplotlib can be used in Python scripts, the Python and IPython shell, the jupyter notebook, web application servers, and four graphical user interface toolkits.\n",
        "\n",
        "If you are aspiring to create impactful visualization with python, Matplotlib is an essential tool to have at your disposal.\n"
      ]
    },
    {
      "cell_type": "markdown",
      "metadata": {
        "button": false,
        "new_sheet": false,
        "run_control": {
          "read_only": false
        },
        "id": "zWnrGzoa1O88"
      },
      "source": [
        "### Matplotlib.Pyplot\n",
        "\n",
        "One of the core aspects of Matplotlib is `matplotlib.pyplot`. It is Matplotlib's scripting layer which we studied in details in the videos about Matplotlib. Recall that it is a collection of command style functions that make Matplotlib work like MATLAB. Each `pyplot` function makes some change to a figure: e.g., creates a figure, creates a plotting area in a figure, plots some lines in a plotting area, decorates the plot with labels, etc. In this lab, we will work with the scripting layer to learn how to generate line plots. In future labs, we will get to work with the Artist layer as well to experiment first hand how it differs from the scripting layer.\n"
      ]
    },
    {
      "cell_type": "markdown",
      "metadata": {
        "button": false,
        "new_sheet": false,
        "run_control": {
          "read_only": false
        },
        "id": "VhbzAk-Q1O88"
      },
      "source": [
        "Let's start by importing `matplotlib` and `matplotlib.pyplot` as follows:\n"
      ]
    },
    {
      "cell_type": "code",
      "execution_count": null,
      "metadata": {
        "button": false,
        "new_sheet": false,
        "run_control": {
          "read_only": false
        },
        "scrolled": false,
        "id": "6L4GuTKc1O88"
      },
      "outputs": [],
      "source": [
        "# we are using the inline backend\n",
        "%matplotlib inline \n",
        "\n",
        "import matplotlib as mpl\n",
        "import matplotlib.pyplot as plt"
      ]
    },
    {
      "cell_type": "markdown",
      "metadata": {
        "button": false,
        "new_sheet": false,
        "run_control": {
          "read_only": false
        },
        "id": "Z-PDplx21O88"
      },
      "source": [
        "\\*optional: check if Matplotlib is loaded.\n"
      ]
    },
    {
      "cell_type": "code",
      "execution_count": null,
      "metadata": {
        "button": false,
        "new_sheet": false,
        "run_control": {
          "read_only": false
        },
        "scrolled": false,
        "id": "vkmrKNXE1O89"
      },
      "outputs": [],
      "source": [
        "print('Matplotlib version: ', mpl.__version__)  # >= 2.0.0"
      ]
    },
    {
      "cell_type": "markdown",
      "metadata": {
        "button": false,
        "new_sheet": false,
        "run_control": {
          "read_only": false
        },
        "id": "D2Y_VWGv1O89"
      },
      "source": [
        "\\*optional: apply a style to Matplotlib.\n"
      ]
    },
    {
      "cell_type": "code",
      "execution_count": null,
      "metadata": {
        "button": false,
        "new_sheet": false,
        "run_control": {
          "read_only": false
        },
        "scrolled": false,
        "id": "ePEu_cME1O89"
      },
      "outputs": [],
      "source": [
        "print(plt.style.available)\n",
        "mpl.style.use(['ggplot']) # optional: for ggplot-like style"
      ]
    },
    {
      "cell_type": "markdown",
      "metadata": {
        "button": false,
        "new_sheet": false,
        "run_control": {
          "read_only": false
        },
        "id": "M4dYvKkI1O89"
      },
      "source": [
        "### Plotting in *pandas*\n",
        "\n",
        "Fortunately, pandas has a built-in implementation of Matplotlib that we can use. Plotting in *pandas* is as simple as appending a `.plot()` method to a series or dataframe.\n",
        "\n",
        "Documentation:\n",
        "\n",
        "*   [Plotting with Series](http://pandas.pydata.org/pandas-docs/stable/api.html?utm_medium=Exinfluencer&utm_source=Exinfluencer&utm_content=000026UJ&utm_term=10006555&utm_id=NA-SkillsNetwork-Channel-SkillsNetworkCoursesIBMDeveloperSkillsNetworkDV0101ENSkillsNetwork20297740-2022-01-01#plotting)<br>\n",
        "*   [Plotting with Dataframes](http://pandas.pydata.org/pandas-docs/stable/api.html?utm_medium=Exinfluencer&utm_source=Exinfluencer&utm_content=000026UJ&utm_term=10006555&utm_id=NA-SkillsNetwork-Channel-SkillsNetworkCoursesIBMDeveloperSkillsNetworkDV0101ENSkillsNetwork20297740-2022-01-01#api-dataframe-plotting)\n"
      ]
    },
    {
      "cell_type": "markdown",
      "metadata": {
        "button": false,
        "new_sheet": false,
        "run_control": {
          "read_only": false
        },
        "id": "yb3BWueo1O8-"
      },
      "source": [
        "# Line Pots (Series/Dataframe) <a id=\"12\"></a>\n"
      ]
    },
    {
      "cell_type": "markdown",
      "metadata": {
        "button": false,
        "new_sheet": false,
        "run_control": {
          "read_only": false
        },
        "id": "apgGzmbI1O8-"
      },
      "source": [
        "**What is a line plot and why use it?**\n",
        "\n",
        "A line chart or line plot is a type of plot which displays information as a series of data points called 'markers' connected by straight line segments. It is a basic type of chart common in many fields.\n",
        "Use line plot when you have a continuous data set. These are best suited for trend-based visualizations of data over a period of time.\n"
      ]
    },
    {
      "cell_type": "markdown",
      "metadata": {
        "button": false,
        "new_sheet": false,
        "run_control": {
          "read_only": false
        },
        "id": "ZMj45Zts1O8-"
      },
      "source": [
        "**Let's start with a case study:**\n",
        "\n",
        "In 2010, Haiti suffered a catastrophic magnitude 7.0 earthquake. The quake caused widespread devastation and loss of life and aout three million people were affected by this natural disaster. As part of Canada's humanitarian effort, the Government of Canada stepped up its effort in accepting refugees from Haiti. We can quickly visualize this effort using a `Line` plot:\n",
        "\n",
        "**Question:** Plot a line graph of immigration from Haiti using `df.plot()`.\n"
      ]
    },
    {
      "cell_type": "markdown",
      "metadata": {
        "button": false,
        "new_sheet": false,
        "run_control": {
          "read_only": false
        },
        "id": "oi7RRIDh1O8-"
      },
      "source": [
        "First, we will extract the data series for Haiti.\n"
      ]
    },
    {
      "cell_type": "code",
      "execution_count": null,
      "metadata": {
        "button": false,
        "new_sheet": false,
        "run_control": {
          "read_only": false
        },
        "scrolled": false,
        "id": "8SRAWroH1O8_"
      },
      "outputs": [],
      "source": [
        "haiti = df_can.loc['Haiti', years] # passing in years 1980 - 2013 to exclude the 'total' column\n",
        "haiti.head()"
      ]
    },
    {
      "cell_type": "markdown",
      "metadata": {
        "button": false,
        "new_sheet": false,
        "run_control": {
          "read_only": false
        },
        "id": "gbMC_znA1O8_"
      },
      "source": [
        "Next, we will plot a line plot by appending `.plot()` to the `haiti` dataframe.\n"
      ]
    },
    {
      "cell_type": "code",
      "execution_count": null,
      "metadata": {
        "button": false,
        "new_sheet": false,
        "run_control": {
          "read_only": false
        },
        "scrolled": false,
        "id": "c8M-6mby1O8_"
      },
      "outputs": [],
      "source": [
        "haiti.plot()"
      ]
    },
    {
      "cell_type": "markdown",
      "metadata": {
        "button": false,
        "new_sheet": false,
        "run_control": {
          "read_only": false
        },
        "id": "x3bzVd8Y1O8_"
      },
      "source": [
        "*pandas* automatically populated the x-axis with the index values (years), and the y-axis with the column values (population). However, notice how the years were not displayed because they are of type *string*. Therefore, let's change the type of the index values to *integer* for plotting.\n",
        "\n",
        "Also, let's label the x and y axis using `plt.title()`, `plt.ylabel()`, and `plt.xlabel()` as follows:\n"
      ]
    },
    {
      "cell_type": "code",
      "execution_count": null,
      "metadata": {
        "button": false,
        "new_sheet": false,
        "run_control": {
          "read_only": false
        },
        "scrolled": true,
        "id": "UbRmOIHd1O8_"
      },
      "outputs": [],
      "source": [
        "haiti.index = haiti.index.map(int) # let's change the index values of Haiti to type integer for plotting\n",
        "haiti.plot(kind='line')\n",
        "\n",
        "plt.title('Immigration from Haiti')\n",
        "plt.ylabel('Number of immigrants')\n",
        "plt.xlabel('Years')\n",
        "\n",
        "plt.show() # need this line to show the updates made to the figure"
      ]
    },
    {
      "cell_type": "markdown",
      "metadata": {
        "button": false,
        "new_sheet": false,
        "run_control": {
          "read_only": false
        },
        "id": "SsfKglFW1O8_"
      },
      "source": [
        "We can clearly notice how number of immigrants from Haiti spiked up from 2010 as Canada stepped up its efforts to accept refugees from Haiti. Let's annotate this spike in the plot by using the `plt.text()` method.\n"
      ]
    },
    {
      "cell_type": "code",
      "execution_count": null,
      "metadata": {
        "button": false,
        "new_sheet": false,
        "run_control": {
          "read_only": false
        },
        "id": "zDaFsS611O9A"
      },
      "outputs": [],
      "source": [
        "haiti.plot(kind='line')\n",
        "\n",
        "plt.title('Immigration from Haiti')\n",
        "plt.ylabel('Number of Immigrants')\n",
        "plt.xlabel('Years')\n",
        "\n",
        "# annotate the 2010 Earthquake. \n",
        "# syntax: plt.text(x, y, label)\n",
        "plt.text(2000, 6000, '2010 Earthquake') # see note below\n",
        "\n",
        "plt.show() "
      ]
    },
    {
      "cell_type": "markdown",
      "metadata": {
        "button": false,
        "new_sheet": false,
        "run_control": {
          "read_only": false
        },
        "id": "WIfwIgKi1O9A"
      },
      "source": [
        "With just a few lines of code, you were able to quickly identify and visualize the spike in immigration!\n",
        "\n",
        "Quick note on x and y values in `plt.text(x, y, label)`:\n",
        "\n",
        "```\n",
        " Since the x-axis (years) is type 'integer', we specified x as a year. The y axis (number of immigrants) is type 'integer', so we can just specify the value y = 6000.\n",
        "```\n",
        "\n",
        "```python\n",
        "    plt.text(2000, 6000, '2010 Earthquake') # years stored as type int\n",
        "```\n",
        "\n",
        "```\n",
        "If the years were stored as type 'string', we would need to specify x as the index position of the year. Eg 20th index is year 2000 since it is the 20th year with a base year of 1980.\n",
        "```\n",
        "\n",
        "```python\n",
        "    plt.text(20, 6000, '2010 Earthquake') # years stored as type int\n",
        "```\n",
        "\n",
        "```\n",
        "We will cover advanced annotation methods in later modules.\n",
        "```\n"
      ]
    },
    {
      "cell_type": "markdown",
      "metadata": {
        "button": false,
        "new_sheet": false,
        "run_control": {
          "read_only": false
        },
        "id": "b1G_-End1O9A"
      },
      "source": [
        "We can easily add more countries to line plot to make meaningful comparisons immigration from different countries.\n",
        "\n",
        "**Question:** Let's compare the number of immigrants from India and China from 1980 to 2013.\n"
      ]
    },
    {
      "cell_type": "markdown",
      "metadata": {
        "button": false,
        "new_sheet": false,
        "run_control": {
          "read_only": false
        },
        "id": "3xvAnlGn1O9A"
      },
      "source": [
        "Step 1: Get the data set for China and India, and display the dataframe.\n"
      ]
    },
    {
      "cell_type": "code",
      "execution_count": null,
      "metadata": {
        "button": false,
        "new_sheet": false,
        "run_control": {
          "read_only": false
        },
        "scrolled": true,
        "id": "Gnh3q_oM1O9A"
      },
      "outputs": [],
      "source": [
        "### type your answer here\n",
        "df_CI = df_can.loc[['India', 'China'], years]\n",
        "df_CI\n"
      ]
    },
    {
      "cell_type": "markdown",
      "metadata": {
        "button": false,
        "new_sheet": false,
        "run_control": {
          "read_only": false
        },
        "id": "vk2GEizD1O9A"
      },
      "source": [
        "<details><summary>Click here for a sample python solution</summary>\n",
        "\n",
        "```python\n",
        "    #The correct answer is:\n",
        "    df_CI = df_can.loc[['India', 'China'], years]\n",
        "    df_CI\n",
        "```\n",
        "\n",
        "</details>\n"
      ]
    },
    {
      "cell_type": "markdown",
      "metadata": {
        "button": false,
        "new_sheet": false,
        "run_control": {
          "read_only": false
        },
        "id": "75iZPLfO1O9B"
      },
      "source": [
        "Step 2: Plot graph. We will explicitly specify line plot by passing in `kind` parameter to `plot()`.\n"
      ]
    },
    {
      "cell_type": "code",
      "execution_count": null,
      "metadata": {
        "button": false,
        "new_sheet": false,
        "run_control": {
          "read_only": false
        },
        "scrolled": true,
        "id": "m7ooxy1s1O9B"
      },
      "outputs": [],
      "source": [
        "### type your answer here\n",
        "df_CI.plot(kind='line')\n"
      ]
    },
    {
      "cell_type": "markdown",
      "metadata": {
        "button": false,
        "new_sheet": false,
        "run_control": {
          "read_only": false
        },
        "id": "HgXc85sI1O9B"
      },
      "source": [
        "<details><summary>Click here for a sample python solution</summary>\n",
        "\n",
        "```python\n",
        "    #The correct answer is:\n",
        "    df_CI.plot(kind='line')\n",
        "```\n",
        "\n",
        "</details>\n"
      ]
    },
    {
      "cell_type": "markdown",
      "metadata": {
        "button": false,
        "new_sheet": false,
        "run_control": {
          "read_only": false
        },
        "id": "6Das1vRl1O9B"
      },
      "source": [
        "That doesn't look right...\n",
        "\n",
        "Recall that *pandas* plots the indices on the x-axis and the columns as individual lines on the y-axis. Since `df_CI` is a dataframe with the `country` as the index and `years` as the columns, we must first transpose the dataframe using `transpose()` method to swap the row and columns.\n"
      ]
    },
    {
      "cell_type": "code",
      "execution_count": null,
      "metadata": {
        "button": false,
        "new_sheet": false,
        "run_control": {
          "read_only": false
        },
        "id": "xJ4e5aVn1O9B"
      },
      "outputs": [],
      "source": [
        "df_CI = df_CI.transpose()\n",
        "df_CI.head()"
      ]
    },
    {
      "cell_type": "markdown",
      "metadata": {
        "button": false,
        "new_sheet": false,
        "run_control": {
          "read_only": false
        },
        "id": "CDLEOjsy1O9B"
      },
      "source": [
        "*pandas* will auomatically graph the two countries on the same graph. Go ahead and plot the new transposed dataframe. Make sure to add a title to the plot and label the axes.\n"
      ]
    },
    {
      "cell_type": "code",
      "execution_count": null,
      "metadata": {
        "button": false,
        "new_sheet": false,
        "run_control": {
          "read_only": false
        },
        "id": "AaTAZ1pw1O9B"
      },
      "outputs": [],
      "source": [
        "### type your answer here\n",
        "\n",
        "df_CI.index = df_CI.index.map(int) # let's change the index values of df_CI to type integer for plotting\n",
        "df_CI.plot(kind='line')\n",
        "\n",
        "plt.title('Immigrants from China and India')\n",
        "plt.ylabel('Number of Immigrants')\n",
        "plt.xlabel('Years')\n",
        "\n",
        "plt.show()\n",
        "\n",
        "\n"
      ]
    },
    {
      "cell_type": "markdown",
      "metadata": {
        "button": false,
        "new_sheet": false,
        "run_control": {
          "read_only": false
        },
        "id": "Fzk7o-yN1O9C"
      },
      "source": [
        "<details><summary>Click here for a sample python solution</summary>\n",
        "\n",
        "```python\n",
        "    #The correct answer is:\n",
        "    df_CI.index = df_CI.index.map(int) # let's change the index values of df_CI to type integer for plotting\n",
        "    df_CI.plot(kind='line')\n",
        "\n",
        "    plt.title('Immigrants from China and India')\n",
        "    plt.ylabel('Number of Immigrants')\n",
        "    plt.xlabel('Years')\n",
        "\n",
        "    plt.show()\n",
        "```\n",
        "\n",
        "</details>\n"
      ]
    },
    {
      "cell_type": "markdown",
      "metadata": {
        "button": false,
        "new_sheet": false,
        "run_control": {
          "read_only": false
        },
        "id": "41IXL2Zb1O9C"
      },
      "source": [
        "<br>From the above plot, we can observe that the China and India have very similar immigration trends through the years.\n"
      ]
    },
    {
      "cell_type": "markdown",
      "metadata": {
        "button": false,
        "new_sheet": false,
        "run_control": {
          "read_only": false
        },
        "id": "LqJb0oeI1O9C"
      },
      "source": [
        "*Note*: How come we didn't need to transpose Haiti's dataframe before plotting (like we did for df_CI)?\n",
        "\n",
        "That's because `haiti` is a series as opposed to a dataframe, and has the years as its indices as shown below.\n",
        "\n",
        "```python\n",
        "print(type(haiti))\n",
        "print(haiti.head(5))\n",
        "```\n",
        "\n",
        "> class 'pandas.core.series.Series' <br>\n",
        "> 1980    1666 <br>\n",
        "> 1981    3692 <br>\n",
        "> 1982    3498 <br>\n",
        "> 1983    2860 <br>\n",
        "> 1984    1418 <br>\n",
        "> Name: Haiti, dtype: int64 <br>\n"
      ]
    },
    {
      "cell_type": "markdown",
      "metadata": {
        "button": false,
        "new_sheet": false,
        "run_control": {
          "read_only": false
        },
        "id": "jaO0BfnW1O9C"
      },
      "source": [
        "Line plot is a handy tool to display several dependent variables against one independent variable. However, it is recommended that no more than 5-10 lines on a single graph; any more than that and it becomes difficult to interpret.\n"
      ]
    },
    {
      "cell_type": "markdown",
      "metadata": {
        "button": false,
        "new_sheet": false,
        "run_control": {
          "read_only": false
        },
        "id": "quTSLERQ1O9C"
      },
      "source": [
        "**Question:** Compare the trend of top 5 countries that contributed the most to immigration to Canada.\n"
      ]
    },
    {
      "cell_type": "code",
      "execution_count": null,
      "metadata": {
        "button": false,
        "new_sheet": false,
        "run_control": {
          "read_only": false
        },
        "id": "sQdYeNB_1O9C"
      },
      "outputs": [],
      "source": [
        "### type your answer here\n",
        "\n",
        "#Step 1: Get the dataset. Recall that we created a Total column that calculates cumulative immigration by country. \n",
        "#We will sort on this column to get our top 5 countries using pandas sort_values() method.\n",
        "\n",
        "inplace = True # paramemter saves the changes to the original df_can dataframe\n",
        "df_can.sort_values(by='Total', ascending=False, axis=0, inplace=True)\n",
        "\n",
        "# get the top 5 entries\n",
        "df_top5 = df_can.head(5)\n",
        "\n",
        "# transpose the dataframe\n",
        "df_top5 = df_top5[years].transpose() \n",
        "\n",
        "print(df_top5)\n",
        "\n",
        "\n",
        "#Step 2: Plot the dataframe. To make the plot more readeable, we will change the size using the `figsize` parameter.\n",
        "df_top5.index = df_top5.index.map(int) # let's change the index values of df_top5 to type integer for plotting\n",
        "df_top5.plot(kind='line', figsize=(14, 8)) # pass a tuple (x, y) size\n",
        "\n",
        "\n",
        "\n",
        "plt.title('Immigration Trend of Top 5 Countries')\n",
        "plt.ylabel('Number of Immigrants')\n",
        "plt.xlabel('Years')\n",
        "\n",
        "\n",
        "plt.show()\n"
      ]
    },
    {
      "cell_type": "markdown",
      "metadata": {
        "button": false,
        "new_sheet": false,
        "run_control": {
          "read_only": false
        },
        "id": "HOsPQNlW1O9C"
      },
      "source": [
        "<details><summary>Click here for a sample python solution</summary>\n",
        "\n",
        "```python\n",
        "    #The correct answer is:    \n",
        "    #Step 1: Get the dataset. Recall that we created a Total column that calculates cumulative immigration by country. \n",
        "    #We will sort on this column to get our top 5 countries using pandas sort_values() method.\n",
        "    \n",
        "    inplace = True # paramemter saves the changes to the original df_can dataframe\n",
        "    df_can.sort_values(by='Total', ascending=False, axis=0, inplace=True)\n",
        "\n",
        "    # get the top 5 entries\n",
        "    df_top5 = df_can.head(5)\n",
        "\n",
        "    # transpose the dataframe\n",
        "    df_top5 = df_top5[years].transpose() \n",
        "\n",
        "    print(df_top5)\n",
        "\n",
        "\n",
        "    #Step 2: Plot the dataframe. To make the plot more readeable, we will change the size using the `figsize` parameter.\n",
        "    df_top5.index = df_top5.index.map(int) # let's change the index values of df_top5 to type integer for plotting\n",
        "    df_top5.plot(kind='line', figsize=(14, 8)) # pass a tuple (x, y) size\n",
        "\n",
        "\n",
        "\n",
        "    plt.title('Immigration Trend of Top 5 Countries')\n",
        "    plt.ylabel('Number of Immigrants')\n",
        "    plt.xlabel('Years')\n",
        "\n",
        "\n",
        "    plt.show()\n",
        "\n",
        "```\n",
        "\n",
        "</details>\n"
      ]
    },
    {
      "cell_type": "markdown",
      "metadata": {
        "button": false,
        "new_sheet": false,
        "run_control": {
          "read_only": false
        },
        "id": "qrg8xDMr1O9D"
      },
      "source": [
        "### Other Plots\n",
        "\n",
        "Congratulations! you have learned how to wrangle data with python and create a line plot with Matplotlib. There are many other plotting styles available other than the default Line plot, all of which can be accessed by passing `kind` keyword to `plot()`. The full list of available plots are as follows:\n",
        "\n",
        "*   `bar` for vertical bar plots\n",
        "*   `barh` for horizontal bar plots\n",
        "*   `hist` for histogram\n",
        "*   `box` for boxplot\n",
        "*   `kde` or `density` for density plots\n",
        "*   `area` for area plots\n",
        "*   `pie` for pie plots\n",
        "*   `scatter` for scatter plots\n",
        "*   `hexbin` for hexbin plot\n"
      ]
    },
    {
      "cell_type": "markdown",
      "metadata": {
        "button": false,
        "new_sheet": false,
        "run_control": {
          "read_only": false
        },
        "id": "0BJqAnwX1O9D"
      },
      "source": [
        "### Thank you for completing this lab!\n",
        "\n",
        "## Author\n",
        "\n",
        "<a href=\"https://www.linkedin.com/in/aklson/?utm_medium=Exinfluencer&utm_source=Exinfluencer&utm_content=000026UJ&utm_term=10006555&utm_id=NA-SkillsNetwork-Channel-SkillsNetworkCoursesIBMDeveloperSkillsNetworkDV0101ENSkillsNetwork20297740-2022-01-01\" target=\"_blank\">Alex Aklson</a>\n",
        "\n",
        "### Other Contributors\n",
        "\n",
        "[Jay Rajasekharan](https://www.linkedin.com/in/jayrajasekharan?utm_medium=Exinfluencer&utm_source=Exinfluencer&utm_content=000026UJ&utm_term=10006555&utm_id=NA-SkillsNetwork-Channel-SkillsNetworkCoursesIBMDeveloperSkillsNetworkDV0101ENSkillsNetwork20297740-2022-01-01),\n",
        "[Ehsan M. Kermani](https://www.linkedin.com/in/ehsanmkermani?utm_medium=Exinfluencer&utm_source=Exinfluencer&utm_content=000026UJ&utm_term=10006555&utm_id=NA-SkillsNetwork-Channel-SkillsNetworkCoursesIBMDeveloperSkillsNetworkDV0101ENSkillsNetwork20297740-2022-01-01),\n",
        "[Slobodan Markovic](https://www.linkedin.com/in/slobodan-markovic?utm_medium=Exinfluencer&utm_source=Exinfluencer&utm_content=000026UJ&utm_term=10006555&utm_id=NA-SkillsNetwork-Channel-SkillsNetworkCoursesIBMDeveloperSkillsNetworkDV0101ENSkillsNetwork20297740-2022-01-01),\n",
        "[Weiqing Wang](https://www.linkedin.com/in/weiqing-wang-641640133/?utm_medium=Exinfluencer&utm_source=Exinfluencer&utm_content=000026UJ&utm_term=10006555&utm_id=NA-SkillsNetwork-Channel-SkillsNetworkCoursesIBMDeveloperSkillsNetworkDV0101ENSkillsNetwork20297740-2022-01-01)\n",
        "\n",
        "## Change Log\n",
        "\n",
        "| Date (YYYY-MM-DD) | Version | Changed By    | Change Description                 |\n",
        "| ----------------- | ------- | ------------- | ---------------------------------- |\n",
        "| 2021-05-29        | 2.4     | Weiqing Wang  | Fixed typos and code smells.       |\n",
        "| 2021-01-20        | 2.3     | Lakshmi Holla | Changed TOC cell markdown          |\n",
        "| 2020-11-20        | 2.2     | Lakshmi Holla | Changed IBM box URL                |\n",
        "| 2020-11-03        | 2.1     | Lakshmi Holla | Changed URL and info method        |\n",
        "| 2020-08-27        | 2.0     | Lavanya       | Moved Lab to course repo in GitLab |\n",
        "\n",
        "## <h3 align=\"center\"> © IBM Corporation 2020. All rights reserved. <h3/>\n"
      ]
    }
  ],
  "metadata": {
    "kernelspec": {
      "display_name": "Python 3",
      "language": "python",
      "name": "python3"
    },
    "language_info": {
      "codemirror_mode": {
        "name": "ipython",
        "version": 3
      },
      "file_extension": ".py",
      "mimetype": "text/x-python",
      "name": "python",
      "nbconvert_exporter": "python",
      "pygments_lexer": "ipython3",
      "version": "3.7.6"
    },
    "colab": {
      "provenance": [],
      "collapsed_sections": [
        "M4dYvKkI1O89",
        "qrg8xDMr1O9D",
        "0BJqAnwX1O9D"
      ]
    }
  },
  "nbformat": 4,
  "nbformat_minor": 0
}